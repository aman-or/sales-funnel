{
 "cells": [
  {
   "cell_type": "markdown",
   "metadata": {},
   "source": [
    "# Анализ воронки"
   ]
  },
  {
   "cell_type": "markdown",
   "metadata": {},
   "source": [
    "## Разбираем файл"
   ]
  },
  {
   "cell_type": "code",
   "execution_count": 1,
   "metadata": {},
   "outputs": [
    {
     "data": {
      "text/plain": [
       "{'Male': {'Desktop': {'2015-02': {'1_home_page': 7602,\n",
       "    '2_search_page': 3832,\n",
       "    '3_payment_page': 586,\n",
       "    '4_payment_confirmation_page': 28},\n",
       "   '2015-03': {'1_home_page': 7538,\n",
       "    '2_search_page': 3663,\n",
       "    '3_payment_page': 134,\n",
       "    '4_payment_confirmation_page': 8},\n",
       "   '2015-04': {'1_home_page': 7559,\n",
       "    '2_search_page': 3836,\n",
       "    '3_payment_page': 164,\n",
       "    '4_payment_confirmation_page': 13},\n",
       "   '2015-01': {'1_home_page': 7504,\n",
       "    '2_search_page': 3678,\n",
       "    '3_payment_page': 596,\n",
       "    '4_payment_confirmation_page': 27}},\n",
       "  'Mobile': {'2015-01': {'1_home_page': 3682,\n",
       "    '2_search_page': 2963,\n",
       "    '3_payment_page': 551,\n",
       "    '4_payment_confirmation_page': 53},\n",
       "   '2015-04': {'1_home_page': 3829,\n",
       "    '2_search_page': 755,\n",
       "    '3_payment_page': 148,\n",
       "    '4_payment_confirmation_page': 13},\n",
       "   '2015-03': {'1_home_page': 3812,\n",
       "    '2_search_page': 762,\n",
       "    '3_payment_page': 160,\n",
       "    '4_payment_confirmation_page': 10},\n",
       "   '2015-02': {'1_home_page': 3799,\n",
       "    '2_search_page': 3035,\n",
       "    '3_payment_page': 591,\n",
       "    '4_payment_confirmation_page': 59}}},\n",
       " 'Female': {'Desktop': {'2015-03': {'1_home_page': 7512,\n",
       "    '2_search_page': 3707,\n",
       "    '3_payment_page': 162,\n",
       "    '4_payment_confirmation_page': 6},\n",
       "   '2015-01': {'1_home_page': 7546,\n",
       "    '2_search_page': 3851,\n",
       "    '3_payment_page': 625,\n",
       "    '4_payment_confirmation_page': 33},\n",
       "   '2015-02': {'1_home_page': 7447,\n",
       "    '2_search_page': 3800,\n",
       "    '3_payment_page': 605,\n",
       "    '4_payment_confirmation_page': 26},\n",
       "   '2015-04': {'1_home_page': 7491,\n",
       "    '2_search_page': 3733,\n",
       "    '3_payment_page': 138,\n",
       "    '4_payment_confirmation_page': 9}},\n",
       "  'Mobile': {'2015-04': {'1_home_page': 3721,\n",
       "    '2_search_page': 756,\n",
       "    '3_payment_page': 147,\n",
       "    '4_payment_confirmation_page': 11},\n",
       "   '2015-03': {'1_home_page': 3738,\n",
       "    '2_search_page': 747,\n",
       "    '3_payment_page': 175,\n",
       "    '4_payment_confirmation_page': 20},\n",
       "   '2015-02': {'1_home_page': 3751,\n",
       "    '2_search_page': 3020,\n",
       "    '3_payment_page': 630,\n",
       "    '4_payment_confirmation_page': 60},\n",
       "   '2015-01': {'1_home_page': 3868,\n",
       "    '2_search_page': 3062,\n",
       "    '3_payment_page': 618,\n",
       "    '4_payment_confirmation_page': 76}}}}"
      ]
     },
     "execution_count": 1,
     "metadata": {},
     "output_type": "execute_result"
    }
   ],
   "source": [
    "import csv\n",
    "\n",
    "funnel = {'1_home_page': 0, '2_search_page': 0, '3_payment_page': 0, '4_payment_confirmation_page': 0}\n",
    "funnel_by_gender = {}\n",
    "\n",
    "with open(r\"click_stream.csv\", mode='r') as csv_file:\n",
    "    csv_reader = csv.DictReader(csv_file)\n",
    "\n",
    "    for row in csv_reader:  # корректный отступ цикла\n",
    "        \n",
    "        page = list(row.items())[1][1]\n",
    "        event_date = list(row.items())[2][1][:-3]\n",
    "        device = list(row.items())[3][1]\n",
    "        gender = list(row.items())[4][1]\n",
    "\n",
    "        if gender not in funnel_by_gender:\n",
    "            funnel_by_gender[gender] = {}\n",
    "\n",
    "        if device not in funnel_by_gender[gender]:\n",
    "            funnel_by_gender[gender][device] = {}\n",
    "\n",
    "        if event_date not in funnel_by_gender[gender][device]:\n",
    "            funnel_by_gender[gender][device][event_date] = funnel.copy()\n",
    "            \n",
    "        if page in funnel_by_gender[gender][device][event_date]:\n",
    "            funnel_by_gender[gender][device][event_date][page] += 1\n",
    "    \n",
    "        \n",
    "funnel_by_gender"
   ]
  },
  {
   "cell_type": "markdown",
   "metadata": {},
   "source": [
    "## Импортируем библиотеку **pandas** и **matplotlib.pyplot**. Создаем датафрейм и сводную таблицу"
   ]
  },
  {
   "cell_type": "code",
   "execution_count": 2,
   "metadata": {},
   "outputs": [],
   "source": [
    "import pandas as pd\n",
    "import matplotlib.pyplot as plt\n",
    "rows = []\n",
    "for gender, devices in funnel_by_gender.items():\n",
    "    for device, dates in devices.items():\n",
    "        for date, pages in dates.items():\n",
    "            for page, value in pages.items():\n",
    "                rows.append([gender, device, date, page, value])\n",
    "\n",
    "df_stage = pd.DataFrame(rows, columns=['Gender', 'Device', 'Date', 'Page', 'Value'])"
   ]
  },
  {
   "cell_type": "code",
   "execution_count": 22,
   "metadata": {},
   "outputs": [
    {
     "data": {
      "text/html": [
       "<div>\n",
       "<style scoped>\n",
       "    .dataframe tbody tr th:only-of-type {\n",
       "        vertical-align: middle;\n",
       "    }\n",
       "\n",
       "    .dataframe tbody tr th {\n",
       "        vertical-align: top;\n",
       "    }\n",
       "\n",
       "    .dataframe thead th {\n",
       "        text-align: right;\n",
       "    }\n",
       "</style>\n",
       "<table border=\"1\" class=\"dataframe\">\n",
       "  <thead>\n",
       "    <tr style=\"text-align: right;\">\n",
       "      <th></th>\n",
       "      <th>Gender</th>\n",
       "      <th>Device</th>\n",
       "      <th>Date</th>\n",
       "      <th>Page</th>\n",
       "      <th>Value</th>\n",
       "    </tr>\n",
       "  </thead>\n",
       "  <tbody>\n",
       "    <tr>\n",
       "      <th>16</th>\n",
       "      <td>Male</td>\n",
       "      <td>Mobile</td>\n",
       "      <td>2015-01</td>\n",
       "      <td>1_home_page</td>\n",
       "      <td>3682</td>\n",
       "    </tr>\n",
       "    <tr>\n",
       "      <th>31</th>\n",
       "      <td>Male</td>\n",
       "      <td>Mobile</td>\n",
       "      <td>2015-02</td>\n",
       "      <td>4_payment_confirmation_page</td>\n",
       "      <td>59</td>\n",
       "    </tr>\n",
       "    <tr>\n",
       "      <th>20</th>\n",
       "      <td>Male</td>\n",
       "      <td>Mobile</td>\n",
       "      <td>2015-04</td>\n",
       "      <td>1_home_page</td>\n",
       "      <td>3829</td>\n",
       "    </tr>\n",
       "    <tr>\n",
       "      <th>22</th>\n",
       "      <td>Male</td>\n",
       "      <td>Mobile</td>\n",
       "      <td>2015-04</td>\n",
       "      <td>3_payment_page</td>\n",
       "      <td>148</td>\n",
       "    </tr>\n",
       "    <tr>\n",
       "      <th>27</th>\n",
       "      <td>Male</td>\n",
       "      <td>Mobile</td>\n",
       "      <td>2015-03</td>\n",
       "      <td>4_payment_confirmation_page</td>\n",
       "      <td>10</td>\n",
       "    </tr>\n",
       "  </tbody>\n",
       "</table>\n",
       "</div>"
      ],
      "text/plain": [
       "   Gender  Device     Date                         Page  Value\n",
       "16   Male  Mobile  2015-01                  1_home_page   3682\n",
       "31   Male  Mobile  2015-02  4_payment_confirmation_page     59\n",
       "20   Male  Mobile  2015-04                  1_home_page   3829\n",
       "22   Male  Mobile  2015-04               3_payment_page    148\n",
       "27   Male  Mobile  2015-03  4_payment_confirmation_page     10"
      ]
     },
     "execution_count": 22,
     "metadata": {},
     "output_type": "execute_result"
    }
   ],
   "source": [
    "df_stage.sample(5)"
   ]
  },
  {
   "cell_type": "code",
   "execution_count": 23,
   "metadata": {},
   "outputs": [
    {
     "name": "stdout",
     "output_type": "stream",
     "text": [
      "<class 'pandas.core.frame.DataFrame'>\n",
      "RangeIndex: 64 entries, 0 to 63\n",
      "Data columns (total 5 columns):\n",
      " #   Column  Non-Null Count  Dtype \n",
      "---  ------  --------------  ----- \n",
      " 0   Gender  64 non-null     object\n",
      " 1   Device  64 non-null     object\n",
      " 2   Date    64 non-null     object\n",
      " 3   Page    64 non-null     object\n",
      " 4   Value   64 non-null     int64 \n",
      "dtypes: int64(1), object(4)\n",
      "memory usage: 2.6+ KB\n"
     ]
    }
   ],
   "source": [
    "df_stage.info()"
   ]
  },
  {
   "cell_type": "code",
   "execution_count": 31,
   "metadata": {},
   "outputs": [
    {
     "data": {
      "text/plain": [
       "Gender    0\n",
       "Device    0\n",
       "Date      0\n",
       "Page      0\n",
       "Value     0\n",
       "dtype: int64"
      ]
     },
     "execution_count": 31,
     "metadata": {},
     "output_type": "execute_result"
    }
   ],
   "source": [
    "# количество пропущенных значений для всех столбцов\n",
    "df_stage.isna().sum()"
   ]
  },
  {
   "cell_type": "markdown",
   "metadata": {},
   "source": [
    "> **<span style=\"color:green\"> с данными все в порядке можно продолжать исследование </span>**"
   ]
  },
  {
   "cell_type": "code",
   "execution_count": 4,
   "metadata": {},
   "outputs": [
    {
     "name": "stderr",
     "output_type": "stream",
     "text": [
      "C:\\Users\\a-o-b\\AppData\\Local\\Temp\\ipykernel_3716\\162000962.py:1: FutureWarning: The provided callable <built-in function sum> is currently using SeriesGroupBy.sum. In a future version of pandas, the provided callable will be used directly. To keep current behavior pass the string \"sum\" instead.\n",
      "  df_page = pd.DataFrame(df_stage.groupby('Page').agg({'Value': sum}), columns=[ 'Value']).reset_index()\n"
     ]
    },
    {
     "data": {
      "text/html": [
       "<div>\n",
       "<style scoped>\n",
       "    .dataframe tbody tr th:only-of-type {\n",
       "        vertical-align: middle;\n",
       "    }\n",
       "\n",
       "    .dataframe tbody tr th {\n",
       "        vertical-align: top;\n",
       "    }\n",
       "\n",
       "    .dataframe thead th {\n",
       "        text-align: right;\n",
       "    }\n",
       "</style>\n",
       "<table border=\"1\" class=\"dataframe\">\n",
       "  <thead>\n",
       "    <tr style=\"text-align: right;\">\n",
       "      <th></th>\n",
       "      <th>Page</th>\n",
       "      <th>Value</th>\n",
       "      <th>%</th>\n",
       "    </tr>\n",
       "  </thead>\n",
       "  <tbody>\n",
       "    <tr>\n",
       "      <th>0</th>\n",
       "      <td>1_home_page</td>\n",
       "      <td>90399</td>\n",
       "      <td>100.00</td>\n",
       "    </tr>\n",
       "    <tr>\n",
       "      <th>1</th>\n",
       "      <td>2_search_page</td>\n",
       "      <td>45200</td>\n",
       "      <td>50.00</td>\n",
       "    </tr>\n",
       "    <tr>\n",
       "      <th>2</th>\n",
       "      <td>3_payment_page</td>\n",
       "      <td>6030</td>\n",
       "      <td>6.67</td>\n",
       "    </tr>\n",
       "    <tr>\n",
       "      <th>3</th>\n",
       "      <td>4_payment_confirmation_page</td>\n",
       "      <td>452</td>\n",
       "      <td>0.50</td>\n",
       "    </tr>\n",
       "  </tbody>\n",
       "</table>\n",
       "</div>"
      ],
      "text/plain": [
       "                          Page  Value       %\n",
       "0                  1_home_page  90399  100.00\n",
       "1                2_search_page  45200   50.00\n",
       "2               3_payment_page   6030    6.67\n",
       "3  4_payment_confirmation_page    452    0.50"
      ]
     },
     "execution_count": 4,
     "metadata": {},
     "output_type": "execute_result"
    }
   ],
   "source": [
    "df_page = pd.DataFrame(df_stage.groupby('Page').agg({'Value': sum}), columns=[ 'Value']).reset_index()\n",
    "df_page['%'] = round(df_page['Value'] / df_page['Value'].max() * 100, 2)\n",
    "df_page"
   ]
  },
  {
   "cell_type": "code",
   "execution_count": 5,
   "metadata": {},
   "outputs": [
    {
     "data": {
      "image/png": "[encoded data removed]",
      "text/plain": [
       "<Figure size 700x600 with 1 Axes>"
      ]
     },
     "metadata": {},
     "output_type": "display_data"
    }
   ],
   "source": [
    "df_page_reversed = df_page.iloc[::-1].reset_index(drop=True)\n",
    "\n",
    "fig, ax = plt.subplots(1, figsize=(7,6))\n",
    "for idx, val in enumerate(df_page_reversed['Value']):\n",
    "    left = (df_page_reversed['Value'].max() - val) / 2\n",
    "    plt.barh(\n",
    "        y=df_page_reversed['Page'][idx],\n",
    "        width=val,\n",
    "        left=left,\n",
    "        color='gray'\n",
    "    )\n",
    "    # Посчитать центр бара = смещение + половина ширины\n",
    "    text_x = left + val / 2\n",
    "    text_y = df_page_reversed['Page'][idx]\n",
    "     # value\n",
    "    plt.text(text_x, text_y,  # координаты\n",
    "        df_page_reversed['Value'][idx],  # текст\n",
    "        ha='center',  # горизонтальное выравнивание\n",
    "        va='center',  # вертикальное выравнивание\n",
    "        fontsize=16,\n",
    "        color='#2A2A2A')\n",
    "\n",
    "plt.xlim(df_page_reversed['Value'].min(), df_page_reversed['Value'].max())\n",
    "plt.show()"
   ]
  },
  {
   "cell_type": "code",
   "execution_count": 6,
   "metadata": {},
   "outputs": [
    {
     "data": {
      "image/png": "[encoded data removed]",
      "text/plain": [
       "<Figure size 700x600 with 1 Axes>"
      ]
     },
     "metadata": {},
     "output_type": "display_data"
    }
   ],
   "source": [
    "fig, ax = plt.subplots(1, figsize=(7,6))\n",
    "for idx, val in enumerate(df_page_reversed['%']):\n",
    "    left = (df_page_reversed['%'].max() - val) / 2\n",
    "    plt.barh(\n",
    "        y=df_page_reversed['Page'][idx],\n",
    "        width=val,\n",
    "        left=left,\n",
    "        color='gray'\n",
    "    )\n",
    "    # Посчитать центр бара = смещение + половина ширины\n",
    "    text_x = left + val / 2\n",
    "    text_y = df_page_reversed['Page'][idx]\n",
    "     # value\n",
    "    plt.text(text_x, text_y,  # координаты\n",
    "        f'{df_page_reversed['%'][idx]}%',  # текст\n",
    "        ha='center',  # горизонтальное выравнивание\n",
    "        va='center',  # вертикальное выравнивание\n",
    "        fontsize=16,\n",
    "        color='#2A2A2A')\n",
    "\n",
    "plt.xlim(df_page_reversed['%'].min(), df_page_reversed['%'].max())\n",
    "plt.show()"
   ]
  },
  {
   "cell_type": "markdown",
   "metadata": {},
   "source": [
    "> **<span style=\"color:red\">конверсия состовляет всего 0.5%</span>**"
   ]
  },
  {
   "cell_type": "markdown",
   "metadata": {},
   "source": [
    "## Эволюция воронки со временем"
   ]
  },
  {
   "cell_type": "code",
   "execution_count": 7,
   "metadata": {},
   "outputs": [
    {
     "data": {
      "text/html": [
       "<div>\n",
       "<style scoped>\n",
       "    .dataframe tbody tr th:only-of-type {\n",
       "        vertical-align: middle;\n",
       "    }\n",
       "\n",
       "    .dataframe tbody tr th {\n",
       "        vertical-align: top;\n",
       "    }\n",
       "\n",
       "    .dataframe thead th {\n",
       "        text-align: right;\n",
       "    }\n",
       "</style>\n",
       "<table border=\"1\" class=\"dataframe\">\n",
       "  <thead>\n",
       "    <tr style=\"text-align: right;\">\n",
       "      <th>Date</th>\n",
       "      <th>Page</th>\n",
       "      <th>2015-01</th>\n",
       "      <th>2015-02</th>\n",
       "      <th>2015-03</th>\n",
       "      <th>2015-04</th>\n",
       "    </tr>\n",
       "  </thead>\n",
       "  <tbody>\n",
       "    <tr>\n",
       "      <th>0</th>\n",
       "      <td>1_home_page</td>\n",
       "      <td>22600</td>\n",
       "      <td>22599</td>\n",
       "      <td>22600</td>\n",
       "      <td>22600</td>\n",
       "    </tr>\n",
       "    <tr>\n",
       "      <th>1</th>\n",
       "      <td>2_search_page</td>\n",
       "      <td>13554</td>\n",
       "      <td>13687</td>\n",
       "      <td>8879</td>\n",
       "      <td>9080</td>\n",
       "    </tr>\n",
       "    <tr>\n",
       "      <th>2</th>\n",
       "      <td>3_payment_page</td>\n",
       "      <td>2390</td>\n",
       "      <td>2412</td>\n",
       "      <td>631</td>\n",
       "      <td>597</td>\n",
       "    </tr>\n",
       "    <tr>\n",
       "      <th>3</th>\n",
       "      <td>4_payment_confirmation_page</td>\n",
       "      <td>189</td>\n",
       "      <td>173</td>\n",
       "      <td>44</td>\n",
       "      <td>46</td>\n",
       "    </tr>\n",
       "  </tbody>\n",
       "</table>\n",
       "</div>"
      ],
      "text/plain": [
       "Date                         Page  2015-01  2015-02  2015-03  2015-04\n",
       "0                     1_home_page    22600    22599    22600    22600\n",
       "1                   2_search_page    13554    13687     8879     9080\n",
       "2                  3_payment_page     2390     2412      631      597\n",
       "3     4_payment_confirmation_page      189      173       44       46"
      ]
     },
     "execution_count": 7,
     "metadata": {},
     "output_type": "execute_result"
    }
   ],
   "source": [
    "df_date = df_stage.pivot_table(index=['Page'], columns='Date', values='Value', aggfunc='sum').reset_index()\n",
    "df_date"
   ]
  },
  {
   "cell_type": "markdown",
   "metadata": {},
   "source": [
    "#### таблица в процентах"
   ]
  },
  {
   "cell_type": "code",
   "execution_count": 8,
   "metadata": {},
   "outputs": [
    {
     "data": {
      "text/html": [
       "<div>\n",
       "<style scoped>\n",
       "    .dataframe tbody tr th:only-of-type {\n",
       "        vertical-align: middle;\n",
       "    }\n",
       "\n",
       "    .dataframe tbody tr th {\n",
       "        vertical-align: top;\n",
       "    }\n",
       "\n",
       "    .dataframe thead th {\n",
       "        text-align: right;\n",
       "    }\n",
       "</style>\n",
       "<table border=\"1\" class=\"dataframe\">\n",
       "  <thead>\n",
       "    <tr style=\"text-align: right;\">\n",
       "      <th>Date</th>\n",
       "      <th>Page</th>\n",
       "      <th>2015-01</th>\n",
       "      <th>2015-02</th>\n",
       "      <th>2015-03</th>\n",
       "      <th>2015-04</th>\n",
       "    </tr>\n",
       "  </thead>\n",
       "  <tbody>\n",
       "    <tr>\n",
       "      <th>0</th>\n",
       "      <td>1_home_page</td>\n",
       "      <td>100.00</td>\n",
       "      <td>100.00</td>\n",
       "      <td>100.00</td>\n",
       "      <td>100.00</td>\n",
       "    </tr>\n",
       "    <tr>\n",
       "      <th>1</th>\n",
       "      <td>2_search_page</td>\n",
       "      <td>59.97</td>\n",
       "      <td>60.56</td>\n",
       "      <td>39.29</td>\n",
       "      <td>40.18</td>\n",
       "    </tr>\n",
       "    <tr>\n",
       "      <th>2</th>\n",
       "      <td>3_payment_page</td>\n",
       "      <td>10.58</td>\n",
       "      <td>10.67</td>\n",
       "      <td>2.79</td>\n",
       "      <td>2.64</td>\n",
       "    </tr>\n",
       "    <tr>\n",
       "      <th>3</th>\n",
       "      <td>4_payment_confirmation_page</td>\n",
       "      <td>0.84</td>\n",
       "      <td>0.77</td>\n",
       "      <td>0.19</td>\n",
       "      <td>0.20</td>\n",
       "    </tr>\n",
       "  </tbody>\n",
       "</table>\n",
       "</div>"
      ],
      "text/plain": [
       "Date                         Page  2015-01  2015-02  2015-03  2015-04\n",
       "0                     1_home_page   100.00   100.00   100.00   100.00\n",
       "1                   2_search_page    59.97    60.56    39.29    40.18\n",
       "2                  3_payment_page    10.58    10.67     2.79     2.64\n",
       "3     4_payment_confirmation_page     0.84     0.77     0.19     0.20"
      ]
     },
     "execution_count": 8,
     "metadata": {},
     "output_type": "execute_result"
    }
   ],
   "source": [
    "df_norm = df_date.set_index('Page').apply(lambda col: round(col / col.max() * 100, 2)).reset_index()\n",
    "df_norm"
   ]
  },
  {
   "cell_type": "markdown",
   "metadata": {},
   "source": [
    "> **<span style=\"color:red\">конверсия значительно падает у покупателей примерно в 4 раза</span>**"
   ]
  },
  {
   "cell_type": "code",
   "execution_count": 9,
   "metadata": {},
   "outputs": [
    {
     "data": {
      "image/png": "[encoded data removed]",
      "text/plain": [
       "<Figure size 1000x600 with 1 Axes>"
      ]
     },
     "metadata": {},
     "output_type": "display_data"
    }
   ],
   "source": [
    "# Транспонируем датафрейм для построения графика\n",
    "df_date_T = df_date.set_index('Page').T\n",
    "# Построение графика\n",
    "df_date_T.plot(kind='bar', figsize=(10, 6))\n",
    "plt.title(\"Стадии воронки по месяцам\")\n",
    "plt.ylabel(\"Количество пользователей\")\n",
    "plt.xlabel(\"Месяц\")\n",
    "plt.xticks(rotation=45)\n",
    "plt.legend(title=\"Стадии воронки\",\n",
    "    bbox_to_anchor=(1, 1),\n",
    "    loc='upper left')\n",
    "plt.show()\n"
   ]
  },
  {
   "cell_type": "markdown",
   "metadata": {},
   "source": [
    "### Создадим отдельный график для отображение колонки с совершенными действиями "
   ]
  },
  {
   "cell_type": "code",
   "execution_count": 10,
   "metadata": {},
   "outputs": [
    {
     "data": {
      "image/png": "[encoded data removed]",
      "text/plain": [
       "<Figure size 1000x600 with 1 Axes>"
      ]
     },
     "metadata": {},
     "output_type": "display_data"
    }
   ],
   "source": [
    "# Построение графика\n",
    "df_date_T['4_payment_confirmation_page'].plot(kind='bar', figsize=(10, 6))\n",
    "plt.title(\"Стадии воронки по месяцам\")\n",
    "plt.ylabel(\"Количество пользователей\")\n",
    "plt.xlabel(\"Месяц\")\n",
    "plt.xticks(rotation=45)\n",
    "plt.legend(title=\"Стадии воронки\",\n",
    "    bbox_to_anchor=(1, 1),\n",
    "    loc='upper left')\n",
    "plt.show()"
   ]
  },
  {
   "cell_type": "markdown",
   "metadata": {},
   "source": [
    "> **<span style=\"color:red\">Что-то произошло между февралем и мартом, из-за чего произошел значительный регресс во всех частях воронки</span>**"
   ]
  },
  {
   "cell_type": "markdown",
   "metadata": {},
   "source": [
    "### Рассмотрим влияние устройств на конверсию"
   ]
  },
  {
   "cell_type": "markdown",
   "metadata": {},
   "source": [
    "#### телефоны"
   ]
  },
  {
   "cell_type": "code",
   "execution_count": 11,
   "metadata": {},
   "outputs": [
    {
     "data": {
      "text/html": [
       "<div>\n",
       "<style scoped>\n",
       "    .dataframe tbody tr th:only-of-type {\n",
       "        vertical-align: middle;\n",
       "    }\n",
       "\n",
       "    .dataframe tbody tr th {\n",
       "        vertical-align: top;\n",
       "    }\n",
       "\n",
       "    .dataframe thead th {\n",
       "        text-align: right;\n",
       "    }\n",
       "</style>\n",
       "<table border=\"1\" class=\"dataframe\">\n",
       "  <thead>\n",
       "    <tr style=\"text-align: right;\">\n",
       "      <th>Date</th>\n",
       "      <th>Page</th>\n",
       "      <th>2015-01</th>\n",
       "      <th>2015-02</th>\n",
       "      <th>2015-03</th>\n",
       "      <th>2015-04</th>\n",
       "    </tr>\n",
       "  </thead>\n",
       "  <tbody>\n",
       "    <tr>\n",
       "      <th>0</th>\n",
       "      <td>1_home_page</td>\n",
       "      <td>7550</td>\n",
       "      <td>7550</td>\n",
       "      <td>7550</td>\n",
       "      <td>7550</td>\n",
       "    </tr>\n",
       "    <tr>\n",
       "      <th>1</th>\n",
       "      <td>2_search_page</td>\n",
       "      <td>6025</td>\n",
       "      <td>6055</td>\n",
       "      <td>1509</td>\n",
       "      <td>1511</td>\n",
       "    </tr>\n",
       "    <tr>\n",
       "      <th>2</th>\n",
       "      <td>3_payment_page</td>\n",
       "      <td>1169</td>\n",
       "      <td>1221</td>\n",
       "      <td>335</td>\n",
       "      <td>295</td>\n",
       "    </tr>\n",
       "    <tr>\n",
       "      <th>3</th>\n",
       "      <td>4_payment_confirmation_page</td>\n",
       "      <td>129</td>\n",
       "      <td>119</td>\n",
       "      <td>30</td>\n",
       "      <td>24</td>\n",
       "    </tr>\n",
       "  </tbody>\n",
       "</table>\n",
       "</div>"
      ],
      "text/plain": [
       "Date                         Page  2015-01  2015-02  2015-03  2015-04\n",
       "0                     1_home_page     7550     7550     7550     7550\n",
       "1                   2_search_page     6025     6055     1509     1511\n",
       "2                  3_payment_page     1169     1221      335      295\n",
       "3     4_payment_confirmation_page      129      119       30       24"
      ]
     },
     "execution_count": 11,
     "metadata": {},
     "output_type": "execute_result"
    }
   ],
   "source": [
    "df_mobile =  df_stage[df_stage['Device'] == 'Mobile'].pivot_table(index=['Page'], columns='Date', values='Value',  aggfunc='sum').reset_index()\n",
    "df_mobile"
   ]
  },
  {
   "cell_type": "code",
   "execution_count": 12,
   "metadata": {},
   "outputs": [
    {
     "data": {
      "image/png": "[encoded data removed]",
      "text/plain": [
       "<Figure size 1000x600 with 1 Axes>"
      ]
     },
     "metadata": {},
     "output_type": "display_data"
    }
   ],
   "source": [
    "df_mobile_T = df_mobile.set_index('Page').T\n",
    "# Построение графика\n",
    "df_mobile_T['2_search_page'].plot(kind='bar', figsize=(10, 6))\n",
    "plt.title(\"Стадии воронки по месяцам для мобильных телефонов\")\n",
    "plt.ylabel(\"Количество пользователей\")\n",
    "plt.xlabel(\"Месяц\")\n",
    "plt.xticks(rotation=45)\n",
    "plt.legend(title=\"Стадии воронки\",\n",
    "    bbox_to_anchor=(1, 1),\n",
    "    loc='upper left')\n",
    "plt.show()"
   ]
  },
  {
   "cell_type": "markdown",
   "metadata": {},
   "source": [
    "> **<span style=\"color:red\">просадки на страничке поиска</span>**"
   ]
  },
  {
   "cell_type": "markdown",
   "metadata": {},
   "source": [
    "#### компьютеры"
   ]
  },
  {
   "cell_type": "code",
   "execution_count": 13,
   "metadata": {},
   "outputs": [
    {
     "data": {
      "text/html": [
       "<div>\n",
       "<style scoped>\n",
       "    .dataframe tbody tr th:only-of-type {\n",
       "        vertical-align: middle;\n",
       "    }\n",
       "\n",
       "    .dataframe tbody tr th {\n",
       "        vertical-align: top;\n",
       "    }\n",
       "\n",
       "    .dataframe thead th {\n",
       "        text-align: right;\n",
       "    }\n",
       "</style>\n",
       "<table border=\"1\" class=\"dataframe\">\n",
       "  <thead>\n",
       "    <tr style=\"text-align: right;\">\n",
       "      <th>Date</th>\n",
       "      <th>Page</th>\n",
       "      <th>2015-01</th>\n",
       "      <th>2015-02</th>\n",
       "      <th>2015-03</th>\n",
       "      <th>2015-04</th>\n",
       "    </tr>\n",
       "  </thead>\n",
       "  <tbody>\n",
       "    <tr>\n",
       "      <th>0</th>\n",
       "      <td>1_home_page</td>\n",
       "      <td>15050</td>\n",
       "      <td>15049</td>\n",
       "      <td>15050</td>\n",
       "      <td>15050</td>\n",
       "    </tr>\n",
       "    <tr>\n",
       "      <th>1</th>\n",
       "      <td>2_search_page</td>\n",
       "      <td>7529</td>\n",
       "      <td>7632</td>\n",
       "      <td>7370</td>\n",
       "      <td>7569</td>\n",
       "    </tr>\n",
       "    <tr>\n",
       "      <th>2</th>\n",
       "      <td>3_payment_page</td>\n",
       "      <td>1221</td>\n",
       "      <td>1191</td>\n",
       "      <td>296</td>\n",
       "      <td>302</td>\n",
       "    </tr>\n",
       "    <tr>\n",
       "      <th>3</th>\n",
       "      <td>4_payment_confirmation_page</td>\n",
       "      <td>60</td>\n",
       "      <td>54</td>\n",
       "      <td>14</td>\n",
       "      <td>22</td>\n",
       "    </tr>\n",
       "  </tbody>\n",
       "</table>\n",
       "</div>"
      ],
      "text/plain": [
       "Date                         Page  2015-01  2015-02  2015-03  2015-04\n",
       "0                     1_home_page    15050    15049    15050    15050\n",
       "1                   2_search_page     7529     7632     7370     7569\n",
       "2                  3_payment_page     1221     1191      296      302\n",
       "3     4_payment_confirmation_page       60       54       14       22"
      ]
     },
     "execution_count": 13,
     "metadata": {},
     "output_type": "execute_result"
    }
   ],
   "source": [
    "df_desktop =  df_stage[df_stage['Device'] == 'Desktop'].pivot_table(index=['Page'], columns='Date', values='Value',  aggfunc='sum').reset_index()\n",
    "df_desktop"
   ]
  },
  {
   "cell_type": "code",
   "execution_count": 14,
   "metadata": {},
   "outputs": [
    {
     "data": {
      "image/png": "[encoded data removed]",
      "text/plain": [
       "<Figure size 1000x600 with 1 Axes>"
      ]
     },
     "metadata": {},
     "output_type": "display_data"
    }
   ],
   "source": [
    "df_desktop_T = df_desktop.set_index('Page').T\n",
    "# Построение графика\n",
    "df_desktop_T['3_payment_page'].plot(kind='bar', figsize=(10, 6))\n",
    "plt.title(\"Стадии воронки по месяцам для компьютеров\")\n",
    "plt.ylabel(\"Количество пользователей\")\n",
    "plt.xlabel(\"Месяц\")\n",
    "plt.xticks(rotation=45)\n",
    "plt.legend(title=\"Стадии воронки\",\n",
    "    bbox_to_anchor=(1, 1),\n",
    "    loc='upper left')\n",
    "plt.show()"
   ]
  },
  {
   "cell_type": "markdown",
   "metadata": {},
   "source": [
    "> **<span style=\"color:red\">просадки на страничке оплаты</span>**"
   ]
  },
  {
   "cell_type": "markdown",
   "metadata": {},
   "source": [
    "### Проверим влияние на конверсию в зависимости от поля"
   ]
  },
  {
   "cell_type": "markdown",
   "metadata": {},
   "source": [
    "### Мужчины"
   ]
  },
  {
   "cell_type": "code",
   "execution_count": 15,
   "metadata": {},
   "outputs": [
    {
     "data": {
      "text/html": [
       "<div>\n",
       "<style scoped>\n",
       "    .dataframe tbody tr th:only-of-type {\n",
       "        vertical-align: middle;\n",
       "    }\n",
       "\n",
       "    .dataframe tbody tr th {\n",
       "        vertical-align: top;\n",
       "    }\n",
       "\n",
       "    .dataframe thead th {\n",
       "        text-align: right;\n",
       "    }\n",
       "</style>\n",
       "<table border=\"1\" class=\"dataframe\">\n",
       "  <thead>\n",
       "    <tr style=\"text-align: right;\">\n",
       "      <th></th>\n",
       "      <th>Gender</th>\n",
       "      <th>Device</th>\n",
       "      <th>Date</th>\n",
       "      <th>Page</th>\n",
       "      <th>Value</th>\n",
       "    </tr>\n",
       "  </thead>\n",
       "  <tbody>\n",
       "    <tr>\n",
       "      <th>26</th>\n",
       "      <td>Male</td>\n",
       "      <td>Mobile</td>\n",
       "      <td>2015-03</td>\n",
       "      <td>3_payment_page</td>\n",
       "      <td>160</td>\n",
       "    </tr>\n",
       "    <tr>\n",
       "      <th>4</th>\n",
       "      <td>Male</td>\n",
       "      <td>Desktop</td>\n",
       "      <td>2015-03</td>\n",
       "      <td>1_home_page</td>\n",
       "      <td>7538</td>\n",
       "    </tr>\n",
       "    <tr>\n",
       "      <th>22</th>\n",
       "      <td>Male</td>\n",
       "      <td>Mobile</td>\n",
       "      <td>2015-04</td>\n",
       "      <td>3_payment_page</td>\n",
       "      <td>148</td>\n",
       "    </tr>\n",
       "    <tr>\n",
       "      <th>25</th>\n",
       "      <td>Male</td>\n",
       "      <td>Mobile</td>\n",
       "      <td>2015-03</td>\n",
       "      <td>2_search_page</td>\n",
       "      <td>762</td>\n",
       "    </tr>\n",
       "    <tr>\n",
       "      <th>28</th>\n",
       "      <td>Male</td>\n",
       "      <td>Mobile</td>\n",
       "      <td>2015-02</td>\n",
       "      <td>1_home_page</td>\n",
       "      <td>3799</td>\n",
       "    </tr>\n",
       "  </tbody>\n",
       "</table>\n",
       "</div>"
      ],
      "text/plain": [
       "   Gender   Device     Date            Page  Value\n",
       "26   Male   Mobile  2015-03  3_payment_page    160\n",
       "4    Male  Desktop  2015-03     1_home_page   7538\n",
       "22   Male   Mobile  2015-04  3_payment_page    148\n",
       "25   Male   Mobile  2015-03   2_search_page    762\n",
       "28   Male   Mobile  2015-02     1_home_page   3799"
      ]
     },
     "execution_count": 15,
     "metadata": {},
     "output_type": "execute_result"
    }
   ],
   "source": [
    "df_stage[df_stage['Gender'] == 'Male'].sample(5)"
   ]
  },
  {
   "cell_type": "markdown",
   "metadata": {},
   "source": [
    "#### Создание сводной таблицы"
   ]
  },
  {
   "cell_type": "code",
   "execution_count": 16,
   "metadata": {},
   "outputs": [],
   "source": [
    "pivot_table_m = df_stage[df_stage['Gender'] == 'Male'].pivot_table(index=['Page'], columns=['Gender', 'Device', 'Date'], values='Value')\n",
    "pivot_table_m = pivot_table_m.astype('int64')"
   ]
  },
  {
   "cell_type": "markdown",
   "metadata": {},
   "source": [
    "#### Отображение таблицы"
   ]
  },
  {
   "cell_type": "code",
   "execution_count": 17,
   "metadata": {},
   "outputs": [
    {
     "data": {
      "text/html": [
       "<style type=\"text/css\">\n",
       "#T_3e8a9_row0_col0, #T_3e8a9_row0_col1, #T_3e8a9_row0_col2, #T_3e8a9_row0_col3, #T_3e8a9_row0_col4, #T_3e8a9_row0_col5, #T_3e8a9_row0_col6, #T_3e8a9_row0_col7 {\n",
       "  background-color: #08306b;\n",
       "  color: #f1f1f1;\n",
       "}\n",
       "#T_3e8a9_row1_col0 {\n",
       "  background-color: #6fb0d7;\n",
       "  color: #f1f1f1;\n",
       "}\n",
       "#T_3e8a9_row1_col1 {\n",
       "  background-color: #6aaed6;\n",
       "  color: #f1f1f1;\n",
       "}\n",
       "#T_3e8a9_row1_col2 {\n",
       "  background-color: #71b1d7;\n",
       "  color: #f1f1f1;\n",
       "}\n",
       "#T_3e8a9_row1_col3 {\n",
       "  background-color: #69add5;\n",
       "  color: #f1f1f1;\n",
       "}\n",
       "#T_3e8a9_row1_col4 {\n",
       "  background-color: #1663aa;\n",
       "  color: #f1f1f1;\n",
       "}\n",
       "#T_3e8a9_row1_col5 {\n",
       "  background-color: #1865ac;\n",
       "  color: #f1f1f1;\n",
       "}\n",
       "#T_3e8a9_row1_col6 {\n",
       "  background-color: #d0e2f2;\n",
       "  color: #000000;\n",
       "}\n",
       "#T_3e8a9_row1_col7 {\n",
       "  background-color: #d1e2f3;\n",
       "  color: #000000;\n",
       "}\n",
       "#T_3e8a9_row2_col0 {\n",
       "  background-color: #e8f1fa;\n",
       "  color: #000000;\n",
       "}\n",
       "#T_3e8a9_row2_col1 {\n",
       "  background-color: #e9f2fa;\n",
       "  color: #000000;\n",
       "}\n",
       "#T_3e8a9_row2_col2 {\n",
       "  background-color: #f4f9fe;\n",
       "  color: #000000;\n",
       "}\n",
       "#T_3e8a9_row2_col3 {\n",
       "  background-color: #f3f8fe;\n",
       "  color: #000000;\n",
       "}\n",
       "#T_3e8a9_row2_col4 {\n",
       "  background-color: #dce9f6;\n",
       "  color: #000000;\n",
       "}\n",
       "#T_3e8a9_row2_col5 {\n",
       "  background-color: #dbe9f6;\n",
       "  color: #000000;\n",
       "}\n",
       "#T_3e8a9_row2_col6 {\n",
       "  background-color: #eff6fc;\n",
       "  color: #000000;\n",
       "}\n",
       "#T_3e8a9_row2_col7 {\n",
       "  background-color: #f0f6fd;\n",
       "  color: #000000;\n",
       "}\n",
       "#T_3e8a9_row3_col0, #T_3e8a9_row3_col1, #T_3e8a9_row3_col2, #T_3e8a9_row3_col3, #T_3e8a9_row3_col4, #T_3e8a9_row3_col5, #T_3e8a9_row3_col6, #T_3e8a9_row3_col7 {\n",
       "  background-color: #f7fbff;\n",
       "  color: #000000;\n",
       "}\n",
       "</style>\n",
       "<table id=\"T_3e8a9\">\n",
       "  <thead>\n",
       "    <tr>\n",
       "      <th class=\"index_name level0\" >Gender</th>\n",
       "      <th id=\"T_3e8a9_level0_col0\" class=\"col_heading level0 col0\" colspan=\"8\">Male</th>\n",
       "    </tr>\n",
       "    <tr>\n",
       "      <th class=\"index_name level1\" >Device</th>\n",
       "      <th id=\"T_3e8a9_level1_col0\" class=\"col_heading level1 col0\" colspan=\"4\">Desktop</th>\n",
       "      <th id=\"T_3e8a9_level1_col4\" class=\"col_heading level1 col4\" colspan=\"4\">Mobile</th>\n",
       "    </tr>\n",
       "    <tr>\n",
       "      <th class=\"index_name level2\" >Date</th>\n",
       "      <th id=\"T_3e8a9_level2_col0\" class=\"col_heading level2 col0\" >2015-01</th>\n",
       "      <th id=\"T_3e8a9_level2_col1\" class=\"col_heading level2 col1\" >2015-02</th>\n",
       "      <th id=\"T_3e8a9_level2_col2\" class=\"col_heading level2 col2\" >2015-03</th>\n",
       "      <th id=\"T_3e8a9_level2_col3\" class=\"col_heading level2 col3\" >2015-04</th>\n",
       "      <th id=\"T_3e8a9_level2_col4\" class=\"col_heading level2 col4\" >2015-01</th>\n",
       "      <th id=\"T_3e8a9_level2_col5\" class=\"col_heading level2 col5\" >2015-02</th>\n",
       "      <th id=\"T_3e8a9_level2_col6\" class=\"col_heading level2 col6\" >2015-03</th>\n",
       "      <th id=\"T_3e8a9_level2_col7\" class=\"col_heading level2 col7\" >2015-04</th>\n",
       "    </tr>\n",
       "    <tr>\n",
       "      <th class=\"index_name level0\" >Page</th>\n",
       "      <th class=\"blank col0\" >&nbsp;</th>\n",
       "      <th class=\"blank col1\" >&nbsp;</th>\n",
       "      <th class=\"blank col2\" >&nbsp;</th>\n",
       "      <th class=\"blank col3\" >&nbsp;</th>\n",
       "      <th class=\"blank col4\" >&nbsp;</th>\n",
       "      <th class=\"blank col5\" >&nbsp;</th>\n",
       "      <th class=\"blank col6\" >&nbsp;</th>\n",
       "      <th class=\"blank col7\" >&nbsp;</th>\n",
       "    </tr>\n",
       "  </thead>\n",
       "  <tbody>\n",
       "    <tr>\n",
       "      <th id=\"T_3e8a9_level0_row0\" class=\"row_heading level0 row0\" >1_home_page</th>\n",
       "      <td id=\"T_3e8a9_row0_col0\" class=\"data row0 col0\" >7504</td>\n",
       "      <td id=\"T_3e8a9_row0_col1\" class=\"data row0 col1\" >7602</td>\n",
       "      <td id=\"T_3e8a9_row0_col2\" class=\"data row0 col2\" >7538</td>\n",
       "      <td id=\"T_3e8a9_row0_col3\" class=\"data row0 col3\" >7559</td>\n",
       "      <td id=\"T_3e8a9_row0_col4\" class=\"data row0 col4\" >3682</td>\n",
       "      <td id=\"T_3e8a9_row0_col5\" class=\"data row0 col5\" >3799</td>\n",
       "      <td id=\"T_3e8a9_row0_col6\" class=\"data row0 col6\" >3812</td>\n",
       "      <td id=\"T_3e8a9_row0_col7\" class=\"data row0 col7\" >3829</td>\n",
       "    </tr>\n",
       "    <tr>\n",
       "      <th id=\"T_3e8a9_level0_row1\" class=\"row_heading level0 row1\" >2_search_page</th>\n",
       "      <td id=\"T_3e8a9_row1_col0\" class=\"data row1 col0\" >3678</td>\n",
       "      <td id=\"T_3e8a9_row1_col1\" class=\"data row1 col1\" >3832</td>\n",
       "      <td id=\"T_3e8a9_row1_col2\" class=\"data row1 col2\" >3663</td>\n",
       "      <td id=\"T_3e8a9_row1_col3\" class=\"data row1 col3\" >3836</td>\n",
       "      <td id=\"T_3e8a9_row1_col4\" class=\"data row1 col4\" >2963</td>\n",
       "      <td id=\"T_3e8a9_row1_col5\" class=\"data row1 col5\" >3035</td>\n",
       "      <td id=\"T_3e8a9_row1_col6\" class=\"data row1 col6\" >762</td>\n",
       "      <td id=\"T_3e8a9_row1_col7\" class=\"data row1 col7\" >755</td>\n",
       "    </tr>\n",
       "    <tr>\n",
       "      <th id=\"T_3e8a9_level0_row2\" class=\"row_heading level0 row2\" >3_payment_page</th>\n",
       "      <td id=\"T_3e8a9_row2_col0\" class=\"data row2 col0\" >596</td>\n",
       "      <td id=\"T_3e8a9_row2_col1\" class=\"data row2 col1\" >586</td>\n",
       "      <td id=\"T_3e8a9_row2_col2\" class=\"data row2 col2\" >134</td>\n",
       "      <td id=\"T_3e8a9_row2_col3\" class=\"data row2 col3\" >164</td>\n",
       "      <td id=\"T_3e8a9_row2_col4\" class=\"data row2 col4\" >551</td>\n",
       "      <td id=\"T_3e8a9_row2_col5\" class=\"data row2 col5\" >591</td>\n",
       "      <td id=\"T_3e8a9_row2_col6\" class=\"data row2 col6\" >160</td>\n",
       "      <td id=\"T_3e8a9_row2_col7\" class=\"data row2 col7\" >148</td>\n",
       "    </tr>\n",
       "    <tr>\n",
       "      <th id=\"T_3e8a9_level0_row3\" class=\"row_heading level0 row3\" >4_payment_confirmation_page</th>\n",
       "      <td id=\"T_3e8a9_row3_col0\" class=\"data row3 col0\" >27</td>\n",
       "      <td id=\"T_3e8a9_row3_col1\" class=\"data row3 col1\" >28</td>\n",
       "      <td id=\"T_3e8a9_row3_col2\" class=\"data row3 col2\" >8</td>\n",
       "      <td id=\"T_3e8a9_row3_col3\" class=\"data row3 col3\" >13</td>\n",
       "      <td id=\"T_3e8a9_row3_col4\" class=\"data row3 col4\" >53</td>\n",
       "      <td id=\"T_3e8a9_row3_col5\" class=\"data row3 col5\" >59</td>\n",
       "      <td id=\"T_3e8a9_row3_col6\" class=\"data row3 col6\" >10</td>\n",
       "      <td id=\"T_3e8a9_row3_col7\" class=\"data row3 col7\" >13</td>\n",
       "    </tr>\n",
       "  </tbody>\n",
       "</table>\n"
      ],
      "text/plain": [
       "<pandas.io.formats.style.Styler at 0x1ce8d461550>"
      ]
     },
     "execution_count": 17,
     "metadata": {},
     "output_type": "execute_result"
    }
   ],
   "source": [
    "pivot_table_m.style.background_gradient(cmap='Blues')"
   ]
  },
  {
   "cell_type": "markdown",
   "metadata": {},
   "source": [
    "### Женщины"
   ]
  },
  {
   "cell_type": "code",
   "execution_count": 18,
   "metadata": {},
   "outputs": [
    {
     "data": {
      "text/html": [
       "<div>\n",
       "<style scoped>\n",
       "    .dataframe tbody tr th:only-of-type {\n",
       "        vertical-align: middle;\n",
       "    }\n",
       "\n",
       "    .dataframe tbody tr th {\n",
       "        vertical-align: top;\n",
       "    }\n",
       "\n",
       "    .dataframe thead th {\n",
       "        text-align: right;\n",
       "    }\n",
       "</style>\n",
       "<table border=\"1\" class=\"dataframe\">\n",
       "  <thead>\n",
       "    <tr style=\"text-align: right;\">\n",
       "      <th></th>\n",
       "      <th>Gender</th>\n",
       "      <th>Device</th>\n",
       "      <th>Date</th>\n",
       "      <th>Page</th>\n",
       "      <th>Value</th>\n",
       "    </tr>\n",
       "  </thead>\n",
       "  <tbody>\n",
       "    <tr>\n",
       "      <th>49</th>\n",
       "      <td>Female</td>\n",
       "      <td>Mobile</td>\n",
       "      <td>2015-04</td>\n",
       "      <td>2_search_page</td>\n",
       "      <td>756</td>\n",
       "    </tr>\n",
       "    <tr>\n",
       "      <th>32</th>\n",
       "      <td>Female</td>\n",
       "      <td>Desktop</td>\n",
       "      <td>2015-03</td>\n",
       "      <td>1_home_page</td>\n",
       "      <td>7512</td>\n",
       "    </tr>\n",
       "    <tr>\n",
       "      <th>44</th>\n",
       "      <td>Female</td>\n",
       "      <td>Desktop</td>\n",
       "      <td>2015-04</td>\n",
       "      <td>1_home_page</td>\n",
       "      <td>7491</td>\n",
       "    </tr>\n",
       "    <tr>\n",
       "      <th>62</th>\n",
       "      <td>Female</td>\n",
       "      <td>Mobile</td>\n",
       "      <td>2015-01</td>\n",
       "      <td>3_payment_page</td>\n",
       "      <td>618</td>\n",
       "    </tr>\n",
       "    <tr>\n",
       "      <th>36</th>\n",
       "      <td>Female</td>\n",
       "      <td>Desktop</td>\n",
       "      <td>2015-01</td>\n",
       "      <td>1_home_page</td>\n",
       "      <td>7546</td>\n",
       "    </tr>\n",
       "  </tbody>\n",
       "</table>\n",
       "</div>"
      ],
      "text/plain": [
       "    Gender   Device     Date            Page  Value\n",
       "49  Female   Mobile  2015-04   2_search_page    756\n",
       "32  Female  Desktop  2015-03     1_home_page   7512\n",
       "44  Female  Desktop  2015-04     1_home_page   7491\n",
       "62  Female   Mobile  2015-01  3_payment_page    618\n",
       "36  Female  Desktop  2015-01     1_home_page   7546"
      ]
     },
     "execution_count": 18,
     "metadata": {},
     "output_type": "execute_result"
    }
   ],
   "source": [
    "df_stage[df_stage['Gender'] == 'Female'].sample(5)"
   ]
  },
  {
   "cell_type": "markdown",
   "metadata": {},
   "source": [
    "#### Создание сводной таблицы"
   ]
  },
  {
   "cell_type": "code",
   "execution_count": 19,
   "metadata": {},
   "outputs": [],
   "source": [
    "pivot_table_f = df_stage[df_stage['Gender'] == 'Female'].pivot_table(index=['Page'], columns=['Gender', 'Device', 'Date'], values='Value')\n",
    "pivot_table_f = pivot_table_f.astype('int64')"
   ]
  },
  {
   "cell_type": "markdown",
   "metadata": {},
   "source": [
    "#### Отображение таблицы"
   ]
  },
  {
   "cell_type": "code",
   "execution_count": 20,
   "metadata": {},
   "outputs": [
    {
     "data": {
      "text/html": [
       "<style type=\"text/css\">\n",
       "#T_90f3e_row0_col0, #T_90f3e_row0_col1, #T_90f3e_row0_col2, #T_90f3e_row0_col3, #T_90f3e_row0_col4, #T_90f3e_row0_col5, #T_90f3e_row0_col6, #T_90f3e_row0_col7 {\n",
       "  background-color: #49006a;\n",
       "  color: #f1f1f1;\n",
       "}\n",
       "#T_90f3e_row1_col0, #T_90f3e_row1_col1 {\n",
       "  background-color: #f564a0;\n",
       "  color: #f1f1f1;\n",
       "}\n",
       "#T_90f3e_row1_col2 {\n",
       "  background-color: #f76ba2;\n",
       "  color: #f1f1f1;\n",
       "}\n",
       "#T_90f3e_row1_col3 {\n",
       "  background-color: #f769a1;\n",
       "  color: #f1f1f1;\n",
       "}\n",
       "#T_90f3e_row1_col4 {\n",
       "  background-color: #9e017c;\n",
       "  color: #f1f1f1;\n",
       "}\n",
       "#T_90f3e_row1_col5 {\n",
       "  background-color: #98017b;\n",
       "  color: #f1f1f1;\n",
       "}\n",
       "#T_90f3e_row1_col6 {\n",
       "  background-color: #fcd1cd;\n",
       "  color: #000000;\n",
       "}\n",
       "#T_90f3e_row1_col7 {\n",
       "  background-color: #fcd0cc;\n",
       "  color: #000000;\n",
       "}\n",
       "#T_90f3e_row2_col0 {\n",
       "  background-color: #fee9e5;\n",
       "  color: #000000;\n",
       "}\n",
       "#T_90f3e_row2_col1 {\n",
       "  background-color: #fee9e6;\n",
       "  color: #000000;\n",
       "}\n",
       "#T_90f3e_row2_col2 {\n",
       "  background-color: #fff3f0;\n",
       "  color: #000000;\n",
       "}\n",
       "#T_90f3e_row2_col3 {\n",
       "  background-color: #fff4f0;\n",
       "  color: #000000;\n",
       "}\n",
       "#T_90f3e_row2_col4 {\n",
       "  background-color: #fdddd9;\n",
       "  color: #000000;\n",
       "}\n",
       "#T_90f3e_row2_col5 {\n",
       "  background-color: #fddad7;\n",
       "  color: #000000;\n",
       "}\n",
       "#T_90f3e_row2_col6 {\n",
       "  background-color: #fef0ec;\n",
       "  color: #000000;\n",
       "}\n",
       "#T_90f3e_row2_col7 {\n",
       "  background-color: #fef1ed;\n",
       "  color: #000000;\n",
       "}\n",
       "#T_90f3e_row3_col0, #T_90f3e_row3_col1, #T_90f3e_row3_col2, #T_90f3e_row3_col3, #T_90f3e_row3_col4, #T_90f3e_row3_col5, #T_90f3e_row3_col6, #T_90f3e_row3_col7 {\n",
       "  background-color: #fff7f3;\n",
       "  color: #000000;\n",
       "}\n",
       "</style>\n",
       "<table id=\"T_90f3e\">\n",
       "  <thead>\n",
       "    <tr>\n",
       "      <th class=\"index_name level0\" >Gender</th>\n",
       "      <th id=\"T_90f3e_level0_col0\" class=\"col_heading level0 col0\" colspan=\"8\">Female</th>\n",
       "    </tr>\n",
       "    <tr>\n",
       "      <th class=\"index_name level1\" >Device</th>\n",
       "      <th id=\"T_90f3e_level1_col0\" class=\"col_heading level1 col0\" colspan=\"4\">Desktop</th>\n",
       "      <th id=\"T_90f3e_level1_col4\" class=\"col_heading level1 col4\" colspan=\"4\">Mobile</th>\n",
       "    </tr>\n",
       "    <tr>\n",
       "      <th class=\"index_name level2\" >Date</th>\n",
       "      <th id=\"T_90f3e_level2_col0\" class=\"col_heading level2 col0\" >2015-01</th>\n",
       "      <th id=\"T_90f3e_level2_col1\" class=\"col_heading level2 col1\" >2015-02</th>\n",
       "      <th id=\"T_90f3e_level2_col2\" class=\"col_heading level2 col2\" >2015-03</th>\n",
       "      <th id=\"T_90f3e_level2_col3\" class=\"col_heading level2 col3\" >2015-04</th>\n",
       "      <th id=\"T_90f3e_level2_col4\" class=\"col_heading level2 col4\" >2015-01</th>\n",
       "      <th id=\"T_90f3e_level2_col5\" class=\"col_heading level2 col5\" >2015-02</th>\n",
       "      <th id=\"T_90f3e_level2_col6\" class=\"col_heading level2 col6\" >2015-03</th>\n",
       "      <th id=\"T_90f3e_level2_col7\" class=\"col_heading level2 col7\" >2015-04</th>\n",
       "    </tr>\n",
       "    <tr>\n",
       "      <th class=\"index_name level0\" >Page</th>\n",
       "      <th class=\"blank col0\" >&nbsp;</th>\n",
       "      <th class=\"blank col1\" >&nbsp;</th>\n",
       "      <th class=\"blank col2\" >&nbsp;</th>\n",
       "      <th class=\"blank col3\" >&nbsp;</th>\n",
       "      <th class=\"blank col4\" >&nbsp;</th>\n",
       "      <th class=\"blank col5\" >&nbsp;</th>\n",
       "      <th class=\"blank col6\" >&nbsp;</th>\n",
       "      <th class=\"blank col7\" >&nbsp;</th>\n",
       "    </tr>\n",
       "  </thead>\n",
       "  <tbody>\n",
       "    <tr>\n",
       "      <th id=\"T_90f3e_level0_row0\" class=\"row_heading level0 row0\" >1_home_page</th>\n",
       "      <td id=\"T_90f3e_row0_col0\" class=\"data row0 col0\" >7546</td>\n",
       "      <td id=\"T_90f3e_row0_col1\" class=\"data row0 col1\" >7447</td>\n",
       "      <td id=\"T_90f3e_row0_col2\" class=\"data row0 col2\" >7512</td>\n",
       "      <td id=\"T_90f3e_row0_col3\" class=\"data row0 col3\" >7491</td>\n",
       "      <td id=\"T_90f3e_row0_col4\" class=\"data row0 col4\" >3868</td>\n",
       "      <td id=\"T_90f3e_row0_col5\" class=\"data row0 col5\" >3751</td>\n",
       "      <td id=\"T_90f3e_row0_col6\" class=\"data row0 col6\" >3738</td>\n",
       "      <td id=\"T_90f3e_row0_col7\" class=\"data row0 col7\" >3721</td>\n",
       "    </tr>\n",
       "    <tr>\n",
       "      <th id=\"T_90f3e_level0_row1\" class=\"row_heading level0 row1\" >2_search_page</th>\n",
       "      <td id=\"T_90f3e_row1_col0\" class=\"data row1 col0\" >3851</td>\n",
       "      <td id=\"T_90f3e_row1_col1\" class=\"data row1 col1\" >3800</td>\n",
       "      <td id=\"T_90f3e_row1_col2\" class=\"data row1 col2\" >3707</td>\n",
       "      <td id=\"T_90f3e_row1_col3\" class=\"data row1 col3\" >3733</td>\n",
       "      <td id=\"T_90f3e_row1_col4\" class=\"data row1 col4\" >3062</td>\n",
       "      <td id=\"T_90f3e_row1_col5\" class=\"data row1 col5\" >3020</td>\n",
       "      <td id=\"T_90f3e_row1_col6\" class=\"data row1 col6\" >747</td>\n",
       "      <td id=\"T_90f3e_row1_col7\" class=\"data row1 col7\" >756</td>\n",
       "    </tr>\n",
       "    <tr>\n",
       "      <th id=\"T_90f3e_level0_row2\" class=\"row_heading level0 row2\" >3_payment_page</th>\n",
       "      <td id=\"T_90f3e_row2_col0\" class=\"data row2 col0\" >625</td>\n",
       "      <td id=\"T_90f3e_row2_col1\" class=\"data row2 col1\" >605</td>\n",
       "      <td id=\"T_90f3e_row2_col2\" class=\"data row2 col2\" >162</td>\n",
       "      <td id=\"T_90f3e_row2_col3\" class=\"data row2 col3\" >138</td>\n",
       "      <td id=\"T_90f3e_row2_col4\" class=\"data row2 col4\" >618</td>\n",
       "      <td id=\"T_90f3e_row2_col5\" class=\"data row2 col5\" >630</td>\n",
       "      <td id=\"T_90f3e_row2_col6\" class=\"data row2 col6\" >175</td>\n",
       "      <td id=\"T_90f3e_row2_col7\" class=\"data row2 col7\" >147</td>\n",
       "    </tr>\n",
       "    <tr>\n",
       "      <th id=\"T_90f3e_level0_row3\" class=\"row_heading level0 row3\" >4_payment_confirmation_page</th>\n",
       "      <td id=\"T_90f3e_row3_col0\" class=\"data row3 col0\" >33</td>\n",
       "      <td id=\"T_90f3e_row3_col1\" class=\"data row3 col1\" >26</td>\n",
       "      <td id=\"T_90f3e_row3_col2\" class=\"data row3 col2\" >6</td>\n",
       "      <td id=\"T_90f3e_row3_col3\" class=\"data row3 col3\" >9</td>\n",
       "      <td id=\"T_90f3e_row3_col4\" class=\"data row3 col4\" >76</td>\n",
       "      <td id=\"T_90f3e_row3_col5\" class=\"data row3 col5\" >60</td>\n",
       "      <td id=\"T_90f3e_row3_col6\" class=\"data row3 col6\" >20</td>\n",
       "      <td id=\"T_90f3e_row3_col7\" class=\"data row3 col7\" >11</td>\n",
       "    </tr>\n",
       "  </tbody>\n",
       "</table>\n"
      ],
      "text/plain": [
       "<pandas.io.formats.style.Styler at 0x1ce8da21090>"
      ]
     },
     "execution_count": 20,
     "metadata": {},
     "output_type": "execute_result"
    }
   ],
   "source": [
    "pivot_table_f.style.background_gradient(cmap='RdPu')"
   ]
  },
  {
   "cell_type": "code",
   "execution_count": null,
   "metadata": {},
   "outputs": [],
   "source": [
    "\n",
    "# Преобразование вложенного словаря в DataFrame\n",
    "data = []\n",
    "\n",
    "for gender, devices in funnel_by_gender.items():\n",
    "    for device, dates in devices.items():\n",
    "        for event_date, pages in dates.items():\n",
    "            row = {\"Gender\": gender, \"Device\": device, \"Date\": event_date}\n",
    "            row.update(pages)\n",
    "            data.append(row)\n",
    "\n",
    "# Создаем DataFrame\n",
    "df = pd.DataFrame(data)\n",
    "\n",
    "# Группируем данные для наглядной визуализации\n",
    "grouped_df = df.groupby([\"Gender\", \"Device\"])[['1_home_page', '2_search_page', '3_payment_page', '4_payment_confirmation_page']].sum()\n",
    "\n",
    "# Построение графика\n",
    "grouped_df.plot(kind='bar', figsize=(12, 6))\n",
    "plt.title(\"Стадии воронки по полу и устройству\")\n",
    "plt.ylabel(\"Количество пользователей\")\n",
    "plt.xlabel(\"Пол, Устройство\")\n",
    "plt.xticks(rotation=45)\n",
    "plt.legend(title=\"Стадии воронки\")\n",
    "plt.show()\n"
   ]
  },
  {
   "cell_type": "markdown",
   "metadata": {},
   "source": [
    "> **<span style=\"color:green\">мужчины предпочитают совершать покупки больше через компьютер, а женщины предпочитают телефон</span>**"
   ]
  },
  {
   "cell_type": "markdown",
   "metadata": {},
   "source": [
    "##  Итоговые выводы и рекомендации\n",
    "\n",
    "### Выводы\n",
    "\n",
    "1. **Общая конверсия составляет всего ~0.5%**  \n",
    "   Большая часть пользователей отваливается на страницах поиска или оплаты.\n",
    "\n",
    "2. **Конверсия заметно снижается с февраля по март**  \n",
    "   Возможны сезонные колебания или технические проблемы на сайте.\n",
    "\n",
    "3. **Мобильные пользователи чаще всего теряются на странице поиска**  \n",
    "   Необходимо улучшить юзабилити поиска на мобильных устройствах.\n",
    "\n",
    "4. **Десктоп-пользователи сталкиваются с трудностями на этапе оплаты**  \n",
    "   Следует проверить интерфейс платежной страницы для ПК.\n",
    "\n",
    "5. **Мужчины чаще совершают покупки через десктоп**  \n",
    "   Это можно учесть при настройке рекламных кампаний и UX-доработок.\n",
    "\n",
    "---\n",
    "\n",
    "### Рекомендации\n",
    "\n",
    "- Провести **UX-исследование** страниц поиска и оплаты.\n",
    "- Проверить **скорость загрузки** и отсутствие технических ошибок.\n",
    "- Запустить **A/B-тесты** для новых версий страниц.\n",
    "- Разработать **гипотезы по удержанию пользователей** между этапами.\n",
    "- Настроить **персонализированные предложения** для ключевых сегментов пользователей.\n",
    "\n",
    "---\n",
    "\n",
    "**Итог:** Проблемы и точки роста определены — следующий шаг: приоритизация и реализация улучшений!\n"
   ]
  },
  {
   "cell_type": "code",
   "execution_count": null,
   "metadata": {},
   "outputs": [],
   "source": []
  }
 ],
 "metadata": {
  "colab": {
   "collapsed_sections": [],
   "name": "Код для загрузки данных из файла.ipynb",
   "private_outputs": true,
   "provenance": []
  },
  "kernelspec": {
   "display_name": "Python 3 (ipykernel)",
   "language": "python",
   "name": "python3"
  },
  "language_info": {
   "codemirror_mode": {
    "name": "ipython",
    "version": 3
   },
   "file_extension": ".py",
   "mimetype": "text/x-python",
   "name": "python",
   "nbconvert_exporter": "python",
   "pygments_lexer": "ipython3",
   "version": "3.13.5"
  }
 },
 "nbformat": 4,
 "nbformat_minor": 4
}
